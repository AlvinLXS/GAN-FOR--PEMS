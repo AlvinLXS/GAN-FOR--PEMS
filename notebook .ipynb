{
 "cells": [
  {
   "cell_type": "code",
   "execution_count": 58,
   "metadata": {
    "collapsed": true
   },
   "outputs": [],
   "source": [
    "import numpy as np\n",
    "import matplotlib.pyplot as plt\n",
    "import tensorflow as tf\n",
    "%matplotlib inline\n",
    "import csv "
   ]
  },
  {
   "cell_type": "code",
   "execution_count": 59,
   "metadata": {
    "collapsed": true
   },
   "outputs": [],
   "source": [
    "def sample_data(size, length=100):\n",
    "    \"\"\"\n",
    "    生成值得均值和方差的数据\n",
    "    :param size:\n",
    "    :param length:\n",
    "    :return:\n",
    "    \"\"\"\n",
    "    data = []\n",
    "    for _ in range(size):\n",
    "        data.append(sorted(np.random.normal(4, 1.5, length)))\n",
    "    return np.array(data)\n",
    "def preprocess_data(x):\n",
    "    \"\"\"\n",
    "    计算每一组数据平均值和方差\n",
    "    :param x:\n",
    "    :return:\n",
    "    \"\"\"\n",
    "    return [[np.mean(x), np.std(x)]]#for data in x]"
   ]
  },
  {
   "cell_type": "code",
   "execution_count": 60,
   "metadata": {},
   "outputs": [
    {
     "name": "stdout",
     "output_type": "stream",
     "text": [
      "[ 56.  64.  48.  45.  42.  49.  42.  33.  45.  37.]\n",
      "[ 56.  64.  48.  45.  42.  49.  42.  33.  45.  37.]\n",
      "(10,)\n",
      "(10,)\n",
      "[56.0, 64.0, 48.0, 45.0, 42.0, 49.0, 42.0, 33.0, 45.0, 37.0, 57.0, 65.0, 49.0, 46.0, 43.0, 50.0, 43.0, 34.0, 46.0, 38.0]\n",
      "20\n",
      "[[46.600000000000001, 8.5052924699859673]]\n",
      "3\n",
      "Tensor(\"Mean_8:0\", shape=(2,), dtype=int32)\n"
     ]
    }
   ],
   "source": [
    "with open('test.csv','r') as csvfile:\n",
    "    reader=csv.reader(csvfile)\n",
    "    dataset=[row[1] for row in reader]\n",
    "    dataset=np.array(dataset).astype(np.float)\n",
    "# fig=plt.figure(figsize=(20,10),dpi=1000)\n",
    "# ll=plt.plot(rows[0:1000],linewidth=1.2,color='b')\n",
    "# plt.show()\n",
    "# fig.savefig('10000.png')\n",
    "# print(len(rows))\n",
    "LENGTH=1000\n",
    "print(dataset[0:10])\n",
    "real = (np.array(dataset[0:10]))\n",
    "print(real)\n",
    "true=real+1\n",
    "print(real.shape)\n",
    "print(true.shape)\n",
    "# print(true)\n",
    "# print('         ')\n",
    "# print(list(real))\n",
    "# print(\"          \")\n",
    "# print(list(true))\n",
    "# print(\"      \")\n",
    "print(list(real)+list(true))\n",
    "print(len(list(real)+list(true)))\n",
    "X = preprocess_data(list(real)+list(true))\n",
    "print(X)\n",
    "x=([1,2],[3,4])\n",
    "x=np.array(x)\n",
    "print(x[1,0])\n",
    "y=tf.reduce_mean(x,1)\n",
    "print(y)"
   ]
  },
  {
   "cell_type": "code",
   "execution_count": null,
   "metadata": {
    "collapsed": true
   },
   "outputs": [],
   "source": []
  }
 ],
 "metadata": {
  "kernelspec": {
   "display_name": "Python 3",
   "language": "python",
   "name": "python3"
  },
  "language_info": {
   "codemirror_mode": {
    "name": "ipython",
    "version": 3
   },
   "file_extension": ".py",
   "mimetype": "text/x-python",
   "name": "python",
   "nbconvert_exporter": "python",
   "pygments_lexer": "ipython3",
   "version": "3.5.3"
  }
 },
 "nbformat": 4,
 "nbformat_minor": 2
}
